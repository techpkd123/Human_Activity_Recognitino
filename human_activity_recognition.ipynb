{
 "cells": [
  {
   "cell_type": "code",
   "execution_count": 35,
   "metadata": {},
   "outputs": [],
   "source": [
    "import pandas as pd\n",
    "import time\n",
    "from matplotlib import pyplot\n",
    "import numpy as np\n",
    "import itertools\n",
    "from mpl_toolkits.mplot3d import Axes3D\n",
    "from sklearn.utils import shuffle\n",
    "from sklearn.preprocessing import LabelEncoder, StandardScaler , MinMaxScaler\n",
    "from sklearn.pipeline import Pipeline\n",
    "import sklearn.neural_network as nn\n",
    "from sklearn.metrics import confusion_matrix,accuracy_score\n",
    "from sklearn.linear_model import LogisticRegression\n",
    "from sklearn.model_selection import KFold, GridSearchCV, StratifiedKFold,cross_val_score\n",
    "from sklearn.feature_selection import RFE\n",
    "from sklearn.ensemble import ExtraTreesClassifier,AdaBoostClassifier,RandomForestClassifier\n",
    "from sklearn.tree import DecisionTreeClassifier\n",
    "from sklearn.decomposition import PCA\n",
    "from sklearn.neighbors import KNeighborsClassifier\n",
    "from sklearn.svm import SVC\n",
    "from sklearn.discriminant_analysis import QuadraticDiscriminantAnalysis, LinearDiscriminantAnalysis\n",
    "from sklearn.naive_bayes import GaussianNB\n",
    "from sklearn.manifold import TSNE"
   ]
  },
  {
   "cell_type": "markdown",
   "metadata": {},
   "source": [
    "## Importing Libraries required"
   ]
  },
  {
   "cell_type": "code",
   "execution_count": 36,
   "metadata": {},
   "outputs": [],
   "source": [
    "import tensorflow as tf\n",
    "from tensorflow.python.keras.optimizers import *\n",
    "from tensorflow import keras\n",
    "from keras.models import Sequential\n",
    "from keras.layers import Dense, Dropout,Activation\n",
    "from keras.wrappers.scikit_learn import KerasClassifier\n",
    "from keras.utils.np_utils import to_categorical"
   ]
  },
  {
   "cell_type": "markdown",
   "metadata": {},
   "source": [
    "## Importing the dataset from csv file"
   ]
  },
  {
   "cell_type": "code",
   "execution_count": 37,
   "metadata": {},
   "outputs": [],
   "source": [
    "train = pd.read_csv(r'train/train.csv')\n",
    "test = pd.read_csv(r'test/test.csv')"
   ]
  },
  {
   "cell_type": "code",
   "execution_count": 38,
   "metadata": {},
   "outputs": [
    {
     "name": "stdout",
     "output_type": "stream",
     "text": [
      "   tBodyAcc-mean()-X  tBodyAcc-mean()-Y  tBodyAcc-mean()-Z  tBodyAcc-std()-X  \\\n",
      "0           0.288585          -0.020294          -0.132905         -0.995279   \n",
      "1           0.278419          -0.016411          -0.123520         -0.998245   \n",
      "2           0.279653          -0.019467          -0.113462         -0.995380   \n",
      "3           0.279174          -0.026201          -0.123283         -0.996091   \n",
      "4           0.276629          -0.016570          -0.115362         -0.998139   \n",
      "\n",
      "   tBodyAcc-std()-Y  tBodyAcc-std()-Z  tBodyAcc-mad()-X  tBodyAcc-mad()-Y  \\\n",
      "0         -0.983111         -0.913526         -0.995112         -0.983185   \n",
      "1         -0.975300         -0.960322         -0.998807         -0.974914   \n",
      "2         -0.967187         -0.978944         -0.996520         -0.963668   \n",
      "3         -0.983403         -0.990675         -0.997099         -0.982750   \n",
      "4         -0.980817         -0.990482         -0.998321         -0.979672   \n",
      "\n",
      "   tBodyAcc-mad()-Z  tBodyAcc-max()-X  ...  fBodyBodyGyroJerkMag-kurtosis()  \\\n",
      "0         -0.923527         -0.934724  ...                        -0.710304   \n",
      "1         -0.957686         -0.943068  ...                        -0.861499   \n",
      "2         -0.977469         -0.938692  ...                        -0.760104   \n",
      "3         -0.989302         -0.938692  ...                        -0.482845   \n",
      "4         -0.990441         -0.942469  ...                        -0.699205   \n",
      "\n",
      "   angle(tBodyAccMean,gravity)  angle(tBodyAccJerkMean),gravityMean)  \\\n",
      "0                    -0.112754                              0.030400   \n",
      "1                     0.053477                             -0.007435   \n",
      "2                    -0.118559                              0.177899   \n",
      "3                    -0.036788                             -0.012892   \n",
      "4                     0.123320                              0.122542   \n",
      "\n",
      "   angle(tBodyGyroMean,gravityMean)  angle(tBodyGyroJerkMean,gravityMean)  \\\n",
      "0                         -0.464761                             -0.018446   \n",
      "1                         -0.732626                              0.703511   \n",
      "2                          0.100699                              0.808529   \n",
      "3                          0.640011                             -0.485366   \n",
      "4                          0.693578                             -0.615971   \n",
      "\n",
      "   angle(X,gravityMean)  angle(Y,gravityMean)  angle(Z,gravityMean)  subject  \\\n",
      "0             -0.841247              0.179941             -0.058627        1   \n",
      "1             -0.844788              0.180289             -0.054317        1   \n",
      "2             -0.848933              0.180637             -0.049118        1   \n",
      "3             -0.848649              0.181935             -0.047663        1   \n",
      "4             -0.847865              0.185151             -0.043892        1   \n",
      "\n",
      "   Activity  \n",
      "0  STANDING  \n",
      "1  STANDING  \n",
      "2  STANDING  \n",
      "3  STANDING  \n",
      "4  STANDING  \n",
      "\n",
      "[5 rows x 563 columns]\n",
      "LAYING                1407\n",
      "STANDING              1374\n",
      "SITTING               1286\n",
      "WALKING               1226\n",
      "WALKING_UPSTAIRS      1073\n",
      "WALKING_DOWNSTAIRS     986\n",
      "Name: Activity, dtype: int64\n",
      "(7352, 563)\n",
      "(2947, 563)\n"
     ]
    }
   ],
   "source": [
    "peek=train.head()\n",
    "print(peek)\n",
    "print(train.Activity.value_counts()) # counting activities\n",
    "print(train.shape)\n",
    "print(test.shape)"
   ]
  },
  {
   "cell_type": "markdown",
   "metadata": {},
   "source": [
    "## Shuffling Data"
   ]
  },
  {
   "cell_type": "code",
   "execution_count": 39,
   "metadata": {},
   "outputs": [
    {
     "name": "stdout",
     "output_type": "stream",
     "text": [
      "      tBodyAcc-mean()-X  tBodyAcc-mean()-Y  tBodyAcc-mean()-Z  \\\n",
      "19             0.275568          -0.016980          -0.111429   \n",
      "1264           0.353527          -0.036623          -0.093492   \n",
      "941            0.212091          -0.023546          -0.118643   \n",
      "975            0.205437           0.000828          -0.136915   \n",
      "5129           0.278850          -0.017464          -0.113016   \n",
      "\n",
      "      tBodyAcc-std()-X  tBodyAcc-std()-Y  tBodyAcc-std()-Z  tBodyAcc-mad()-X  \\\n",
      "19           -0.997811         -0.990522         -0.997621         -0.998205   \n",
      "1264         -0.296752          0.187732         -0.387994         -0.360650   \n",
      "941          -0.218702         -0.030736         -0.432796         -0.289117   \n",
      "975          -0.080962         -0.007988         -0.323966         -0.144682   \n",
      "5129         -0.997168         -0.989153         -0.990088         -0.997625   \n",
      "\n",
      "      tBodyAcc-mad()-Y  tBodyAcc-mad()-Z  tBodyAcc-max()-X  ...  \\\n",
      "19           -0.989470         -0.997193         -0.945662  ...   \n",
      "1264          0.218166         -0.395419         -0.192086  ...   \n",
      "941          -0.009249         -0.404292          0.022162  ...   \n",
      "975          -0.029424         -0.330634          0.123797  ...   \n",
      "5129         -0.989885         -0.989288         -0.943051  ...   \n",
      "\n",
      "      fBodyBodyGyroJerkMag-kurtosis()  angle(tBodyAccMean,gravity)  \\\n",
      "19                          -0.965522                     0.244931   \n",
      "1264                        -0.787839                    -0.727454   \n",
      "941                          0.246585                     0.753670   \n",
      "975                         -0.313755                     0.629633   \n",
      "5129                        -0.787678                     0.070977   \n",
      "\n",
      "      angle(tBodyAccJerkMean),gravityMean)  angle(tBodyGyroMean,gravityMean)  \\\n",
      "19                                0.102569                          0.066135   \n",
      "1264                              0.236900                         -0.712868   \n",
      "941                              -0.151081                         -0.887495   \n",
      "975                              -0.976454                          0.964241   \n",
      "5129                             -0.023895                          0.129749   \n",
      "\n",
      "      angle(tBodyGyroJerkMean,gravityMean)  angle(X,gravityMean)  \\\n",
      "19                               -0.411729             -0.760620   \n",
      "1264                             -0.559127             -0.787981   \n",
      "941                              -0.105470             -0.899184   \n",
      "975                              -0.320261             -0.715133   \n",
      "5129                             -0.110340             -0.664693   \n",
      "\n",
      "      angle(Y,gravityMean)  angle(Z,gravityMean)  subject          Activity  \n",
      "19                0.263169              0.029573        1          STANDING  \n",
      "1264              0.242679             -0.007043        6           WALKING  \n",
      "941               0.166497              0.003137        5           WALKING  \n",
      "975               0.292821              0.047302        5  WALKING_UPSTAIRS  \n",
      "5129             -0.062554             -0.156951       25           SITTING  \n",
      "\n",
      "[5 rows x 563 columns]\n"
     ]
    }
   ],
   "source": [
    "\n",
    "test =shuffle(test) # ruin the sequence data\n",
    "train=shuffle(train)\n",
    "print(train.head())"
   ]
  },
  {
   "cell_type": "markdown",
   "metadata": {},
   "source": [
    "## Separate Input and Output Labels\n",
    "## Dropping Activity and subject"
   ]
  },
  {
   "cell_type": "code",
   "execution_count": 40,
   "metadata": {},
   "outputs": [],
   "source": [
    "trainData = train.drop(['Activity','subject'], axis=1).values\n",
    "trainLabel = train.Activity.values\n",
    "\n",
    "testData = test.drop(['Activity','subject'], axis=1).values\n",
    "testLabel = test.Activity.values"
   ]
  },
  {
   "cell_type": "code",
   "execution_count": 41,
   "metadata": {},
   "outputs": [],
   "source": [
    "def plot_activity(activity, df):\n",
    "    data = df[df['activity'] == activity][['x-axis', 'y-axis', 'z-axis']][:200]\n",
    "    axis = data.plot(subplots=True, figsize=(16, 12), \n",
    "                     title=activity)\n",
    "    for ax in axis:\n",
    "        ax.legend(loc='lower left', bbox_to_anchor=(1.0, 0.5))"
   ]
  },
  {
   "cell_type": "code",
   "execution_count": 42,
   "metadata": {},
   "outputs": [],
   "source": [
    "encoder = LabelEncoder()"
   ]
  },
  {
   "cell_type": "markdown",
   "metadata": {},
   "source": [
    "## Encoding test labels"
   ]
  },
  {
   "cell_type": "code",
   "execution_count": 43,
   "metadata": {},
   "outputs": [],
   "source": [
    "encoder.fit(testLabel)\n",
    "testLabelE = encoder.transform(testLabel)"
   ]
  },
  {
   "cell_type": "markdown",
   "metadata": {},
   "source": [
    "## Encoding train labels\n"
   ]
  },
  {
   "cell_type": "code",
   "execution_count": 44,
   "metadata": {
    "scrolled": false
   },
   "outputs": [],
   "source": [
    "encoder.fit(trainLabel)\n",
    "trainLabelE = encoder.transform(trainLabel)"
   ]
  },
  {
   "cell_type": "markdown",
   "metadata": {},
   "source": [
    "## Encoding train labels"
   ]
  },
  {
   "cell_type": "code",
   "execution_count": 45,
   "metadata": {},
   "outputs": [
    {
     "name": "stdout",
     "output_type": "stream",
     "text": [
      "LogisticRegression(C=0.1, class_weight=None, dual=False, fit_intercept=True,\n",
      "                   intercept_scaling=1, l1_ratio=None, max_iter=100,\n",
      "                   multi_class='auto', n_jobs=None, penalty='l2',\n",
      "                   random_state=None, solver='lbfgs', tol=0.0001, verbose=0,\n",
      "                   warm_start=False)\n",
      "0.9552086868001357\n",
      "Time of Logistic Regression 1.9029\n"
     ]
    },
    {
     "name": "stderr",
     "output_type": "stream",
     "text": [
      "F:\\anaconda3pkd\\lib\\site-packages\\sklearn\\linear_model\\_logistic.py:940: ConvergenceWarning: lbfgs failed to converge (status=1):\n",
      "STOP: TOTAL NO. of ITERATIONS REACHED LIMIT.\n",
      "\n",
      "Increase the number of iterations (max_iter) or scale the data as shown in:\n",
      "    https://scikit-learn.org/stable/modules/preprocessing.html\n",
      "Please also refer to the documentation for alternative solver options:\n",
      "    https://scikit-learn.org/stable/modules/linear_model.html#logistic-regression\n",
      "  extra_warning_msg=_LOGISTIC_SOLVER_CONVERGENCE_MSG)\n"
     ]
    }
   ],
   "source": [
    "start = time.time()\n",
    "model = LogisticRegression(C=0.1)\n",
    "print(model)\n",
    "model.fit(trainData,trainLabelE)\n",
    "LogisticReg_Score=model.score(testData,testLabelE)\n",
    "print(LogisticReg_Score)  # 0.95\n",
    "end = time.time()\n",
    "total_time =end-start\n",
    "print('Time of Logistic Regression %.4f' % total_time)"
   ]
  },
  {
   "cell_type": "markdown",
   "metadata": {},
   "source": [
    "## Try PCA and LDA for Logistic Regression"
   ]
  },
  {
   "cell_type": "code",
   "execution_count": 46,
   "metadata": {},
   "outputs": [
    {
     "name": "stderr",
     "output_type": "stream",
     "text": [
      "F:\\anaconda3pkd\\lib\\site-packages\\sklearn\\linear_model\\_logistic.py:940: ConvergenceWarning: lbfgs failed to converge (status=1):\n",
      "STOP: TOTAL NO. of ITERATIONS REACHED LIMIT.\n",
      "\n",
      "Increase the number of iterations (max_iter) or scale the data as shown in:\n",
      "    https://scikit-learn.org/stable/modules/preprocessing.html\n",
      "Please also refer to the documentation for alternative solver options:\n",
      "    https://scikit-learn.org/stable/modules/linear_model.html#logistic-regression\n",
      "  extra_warning_msg=_LOGISTIC_SOLVER_CONVERGENCE_MSG)\n"
     ]
    },
    {
     "name": "stdout",
     "output_type": "stream",
     "text": [
      "PCA Score:0.917883\n",
      "Time of PCA 1.2656\n",
      "LDA Score:0.963353\n",
      "Time of LDA 1.2606\n"
     ]
    },
    {
     "name": "stderr",
     "output_type": "stream",
     "text": [
      "F:\\anaconda3pkd\\lib\\site-packages\\sklearn\\linear_model\\_logistic.py:940: ConvergenceWarning: lbfgs failed to converge (status=1):\n",
      "STOP: TOTAL NO. of ITERATIONS REACHED LIMIT.\n",
      "\n",
      "Increase the number of iterations (max_iter) or scale the data as shown in:\n",
      "    https://scikit-learn.org/stable/modules/preprocessing.html\n",
      "Please also refer to the documentation for alternative solver options:\n",
      "    https://scikit-learn.org/stable/modules/linear_model.html#logistic-regression\n",
      "  extra_warning_msg=_LOGISTIC_SOLVER_CONVERGENCE_MSG)\n"
     ]
    }
   ],
   "source": [
    "start = time.time()\n",
    "pca= PCA(0.9) # capture the %85 of the variance\n",
    "pca.fit(trainData)\n",
    "Reduced_trainData=pca.transform(trainData)\n",
    "Reduced_testData=pca.transform(testData) # use the same transform for test\n",
    "\n",
    "model.fit(Reduced_trainData,trainLabelE)\n",
    "PCA_Score=model.score(Reduced_testData,testLabelE)\n",
    "print(\"PCA Score:%f\" %(PCA_Score)) #worse performance but train faster\n",
    "end = time.time()\n",
    "total_time =end-start\n",
    "print('Time of PCA %.4f' % total_time)\n",
    "\n",
    "start = time.time()\n",
    "LDA=LinearDiscriminantAnalysis()\n",
    "LDA.fit(trainData,trainLabelE)\n",
    "LDA_traindata=LDA.transform(trainData)\n",
    "LDA_testdata=LDA.transform(testData)\n",
    "model.fit(LDA_traindata,trainLabelE)\n",
    "lda_score=model.score(LDA_testdata,testLabelE)\n",
    "print(\"LDA Score:%f\" %(lda_score)) #worse performance but train faster\n",
    "end = time.time()\n",
    "total_time =end-start\n",
    "print('Time of LDA %.4f' % total_time)"
   ]
  },
  {
   "cell_type": "markdown",
   "metadata": {},
   "source": [
    "## Scale Features"
   ]
  },
  {
   "cell_type": "code",
   "execution_count": 47,
   "metadata": {},
   "outputs": [
    {
     "name": "stdout",
     "output_type": "stream",
     "text": [
      "Scaled Data Score:0.962674\n"
     ]
    }
   ],
   "source": [
    "scaler = MinMaxScaler()\n",
    "scaler.fit(LDA_traindata)\n",
    "Scaled_trainData = scaler.transform(LDA_traindata)\n",
    "Scaled_testData = scaler.transform(LDA_testdata)\n",
    "\n",
    "model.fit(Scaled_trainData,trainLabelE)\n",
    "Scaled_Score=model.score(Scaled_testData,testLabelE)\n",
    "print(\"Scaled Data Score:%f\" %(Scaled_Score)) #0.947"
   ]
  },
  {
   "cell_type": "markdown",
   "metadata": {},
   "source": [
    "## Scale Features"
   ]
  },
  {
   "cell_type": "code",
   "execution_count": 48,
   "metadata": {},
   "outputs": [
    {
     "name": "stdout",
     "output_type": "stream",
     "text": [
      "Iteration 1, loss = 1.67322813\n",
      "Iteration 2, loss = 1.45702155\n",
      "Iteration 3, loss = 1.23682758\n",
      "Iteration 4, loss = 1.01100722\n",
      "Iteration 5, loss = 0.80082315\n",
      "Iteration 6, loss = 0.62579085\n",
      "Iteration 7, loss = 0.48984620\n",
      "Iteration 8, loss = 0.38792704\n",
      "Iteration 9, loss = 0.31217585\n",
      "Iteration 10, loss = 0.25507614\n",
      "Iteration 11, loss = 0.21157526\n",
      "Iteration 12, loss = 0.17880481\n",
      "Iteration 13, loss = 0.15375600\n",
      "Iteration 14, loss = 0.13458809\n",
      "Iteration 15, loss = 0.11914463\n",
      "Iteration 16, loss = 0.10675434\n",
      "Iteration 17, loss = 0.09666961\n",
      "Iteration 18, loss = 0.08878909\n",
      "Iteration 19, loss = 0.08221846\n",
      "Iteration 20, loss = 0.07686959\n",
      "Iteration 21, loss = 0.07230627\n",
      "Iteration 22, loss = 0.06848996\n",
      "Iteration 23, loss = 0.06524842\n",
      "Iteration 24, loss = 0.06263240\n",
      "Iteration 25, loss = 0.06016085\n",
      "Iteration 26, loss = 0.05814779\n",
      "Iteration 27, loss = 0.05631640\n",
      "Iteration 28, loss = 0.05463368\n",
      "Iteration 29, loss = 0.05327321\n",
      "Iteration 30, loss = 0.05191137\n",
      "Iteration 31, loss = 0.05128873\n",
      "Iteration 32, loss = 0.04991570\n",
      "Iteration 33, loss = 0.04921426\n",
      "Iteration 34, loss = 0.04824051\n",
      "Iteration 35, loss = 0.04720170\n",
      "Iteration 36, loss = 0.04677506\n",
      "Iteration 37, loss = 0.04593373\n",
      "Iteration 38, loss = 0.04536008\n",
      "Iteration 39, loss = 0.04471206\n",
      "Iteration 40, loss = 0.04466463\n",
      "Iteration 41, loss = 0.04393211\n",
      "Iteration 42, loss = 0.04346135\n",
      "Iteration 43, loss = 0.04308849\n",
      "Iteration 44, loss = 0.04271738\n",
      "Iteration 45, loss = 0.04274823\n",
      "Iteration 46, loss = 0.04225995\n",
      "Iteration 47, loss = 0.04193024\n",
      "Iteration 48, loss = 0.04161368\n",
      "Iteration 49, loss = 0.04136150\n",
      "Iteration 50, loss = 0.04138137\n",
      "Iteration 51, loss = 0.04081470\n",
      "Iteration 52, loss = 0.04039450\n",
      "Iteration 53, loss = 0.04025131\n",
      "Iteration 54, loss = 0.04023098\n",
      "Iteration 55, loss = 0.03990641\n",
      "Iteration 56, loss = 0.04000878\n",
      "Iteration 57, loss = 0.03945726\n",
      "Iteration 58, loss = 0.03955672\n",
      "Iteration 59, loss = 0.03914417\n",
      "Iteration 60, loss = 0.03943952\n",
      "Iteration 61, loss = 0.03885097\n",
      "Iteration 62, loss = 0.03877293\n",
      "Iteration 63, loss = 0.03879318\n",
      "Iteration 64, loss = 0.03855855\n",
      "Iteration 65, loss = 0.03866984\n",
      "Iteration 66, loss = 0.03843435\n",
      "Iteration 67, loss = 0.03856879\n",
      "Iteration 68, loss = 0.03791897\n",
      "Iteration 69, loss = 0.03812807\n",
      "Iteration 70, loss = 0.03801034\n",
      "Iteration 71, loss = 0.03810670\n",
      "Iteration 72, loss = 0.03781766\n",
      "Iteration 73, loss = 0.03758392\n",
      "Iteration 74, loss = 0.03765904\n",
      "Iteration 75, loss = 0.03745265\n",
      "Iteration 76, loss = 0.03721876\n",
      "Iteration 77, loss = 0.03776315\n",
      "Iteration 78, loss = 0.03724778\n",
      "Iteration 79, loss = 0.03722526\n",
      "Iteration 80, loss = 0.03735659\n",
      "Iteration 81, loss = 0.03702855\n",
      "Iteration 82, loss = 0.03705577\n",
      "Iteration 83, loss = 0.03682236\n",
      "Iteration 84, loss = 0.03672788\n",
      "Iteration 85, loss = 0.03673630\n",
      "Iteration 86, loss = 0.03686509\n",
      "Iteration 87, loss = 0.03699117\n",
      "Iteration 88, loss = 0.03682692\n",
      "Iteration 89, loss = 0.03671759\n",
      "Iteration 90, loss = 0.03639775\n",
      "Iteration 91, loss = 0.03650940\n",
      "Iteration 92, loss = 0.03661091\n",
      "Iteration 93, loss = 0.03623614\n",
      "Iteration 94, loss = 0.03630077\n",
      "Iteration 95, loss = 0.03609361\n",
      "Iteration 96, loss = 0.03697670\n",
      "Iteration 97, loss = 0.03587531\n",
      "Iteration 98, loss = 0.03595655\n",
      "Iteration 99, loss = 0.03606633\n",
      "Iteration 100, loss = 0.03584544\n",
      "Iteration 101, loss = 0.03581706\n",
      "Iteration 102, loss = 0.03571514\n",
      "Iteration 103, loss = 0.03572921\n",
      "Iteration 104, loss = 0.03600436\n",
      "Iteration 105, loss = 0.03564440\n",
      "Iteration 106, loss = 0.03569513\n",
      "Iteration 107, loss = 0.03602984\n",
      "Iteration 108, loss = 0.03559289\n",
      "Iteration 109, loss = 0.03543330\n",
      "Iteration 110, loss = 0.03551480\n",
      "Iteration 111, loss = 0.03559221\n",
      "Iteration 112, loss = 0.03540120\n",
      "Iteration 113, loss = 0.03540575\n",
      "Iteration 114, loss = 0.03524836\n",
      "Iteration 115, loss = 0.03532300\n",
      "Iteration 116, loss = 0.03549835\n",
      "Iteration 117, loss = 0.03560957\n",
      "Iteration 118, loss = 0.03519455\n",
      "Iteration 119, loss = 0.03532312\n",
      "Iteration 120, loss = 0.03528588\n",
      "Iteration 121, loss = 0.03518468\n",
      "Iteration 122, loss = 0.03522426\n",
      "Iteration 123, loss = 0.03575757\n",
      "Iteration 124, loss = 0.03485376\n",
      "Iteration 125, loss = 0.03512717\n",
      "Iteration 126, loss = 0.03570421\n",
      "Iteration 127, loss = 0.03526314\n",
      "Iteration 128, loss = 0.03521818\n",
      "Iteration 129, loss = 0.03506989\n",
      "Iteration 130, loss = 0.03479312\n",
      "Iteration 131, loss = 0.03524520\n",
      "Iteration 132, loss = 0.03518580\n",
      "Iteration 133, loss = 0.03485361\n",
      "Iteration 134, loss = 0.03512092\n",
      "Iteration 135, loss = 0.03541579\n",
      "Iteration 136, loss = 0.03519630\n",
      "Iteration 137, loss = 0.03483050\n",
      "Iteration 138, loss = 0.03466612\n",
      "Iteration 139, loss = 0.03458516\n",
      "Iteration 140, loss = 0.03477051\n",
      "Iteration 141, loss = 0.03474064\n",
      "Iteration 142, loss = 0.03461478\n",
      "Iteration 143, loss = 0.03485203\n",
      "Iteration 144, loss = 0.03479057\n",
      "Iteration 145, loss = 0.03476836\n",
      "Iteration 146, loss = 0.03451991\n",
      "Iteration 147, loss = 0.03481679\n",
      "Iteration 148, loss = 0.03463030\n",
      "Iteration 149, loss = 0.03473999\n",
      "Iteration 150, loss = 0.03439172\n",
      "Iteration 151, loss = 0.03460100\n",
      "Iteration 152, loss = 0.03445605\n",
      "Iteration 153, loss = 0.03449889\n",
      "Iteration 154, loss = 0.03439016\n",
      "Iteration 155, loss = 0.03466374\n",
      "Iteration 156, loss = 0.03462030\n",
      "Iteration 157, loss = 0.03450355\n",
      "Iteration 158, loss = 0.03450246\n",
      "Iteration 159, loss = 0.03455402\n",
      "Iteration 160, loss = 0.03424888\n",
      "Iteration 161, loss = 0.03460951\n",
      "Iteration 162, loss = 0.03392050\n",
      "Iteration 163, loss = 0.03514453\n",
      "Iteration 164, loss = 0.03435969\n",
      "Iteration 165, loss = 0.03416112\n",
      "Iteration 166, loss = 0.03408941\n",
      "Iteration 167, loss = 0.03450375\n",
      "Iteration 168, loss = 0.03436412\n",
      "Iteration 169, loss = 0.03461478\n",
      "Iteration 170, loss = 0.03438521\n",
      "Iteration 171, loss = 0.03438975\n",
      "Iteration 172, loss = 0.03449779\n",
      "Iteration 173, loss = 0.03422767\n",
      "Training loss did not improve more than tol=0.000000 for 10 consecutive epochs. Stopping.\n",
      "[[537   0   0   0   0   0]\n",
      " [  0 431  59   0   0   1]\n",
      " [  0  21 511   0   0   0]\n",
      " [  0   0   0 492   0   4]\n",
      " [  0   0   0   2 412   6]\n",
      " [  0   0   0  13   1 457]]\n",
      "0.9636918900576857\n"
     ]
    }
   ],
   "source": [
    "mlpSGD  =  nn.MLPClassifier(hidden_layer_sizes=(90,) \\\n",
    "                        , max_iter=1000, alpha=1e-4  \\\n",
    "                        , solver='sgd' ,verbose=10   \\\n",
    "                        , tol=1e-19    , random_state =1 \\\n",
    "                        , learning_rate_init=.001)\n",
    "\n",
    "mlpADAM  =  nn.MLPClassifier(hidden_layer_sizes=(90,) \\\n",
    "                        , max_iter=1000, alpha=1e-4  \\\n",
    "                        , solver='adam' ,verbose=10   \\\n",
    "                        , tol=1e-19    , random_state =1 \\\n",
    "                        , learning_rate_init=.001)\n",
    "\n",
    "nnModelADAM = mlpADAM.fit(Scaled_trainData, trainLabelE)\n",
    "\n",
    "predicted = nnModelADAM.predict(Scaled_testData)\n",
    "matrix = confusion_matrix(testLabelE, predicted)\n",
    "print(matrix)\n",
    "print(nnModelADAM.score(Scaled_testData,testLabelE))"
   ]
  },
  {
   "cell_type": "markdown",
   "metadata": {},
   "source": [
    "## Keras Neural Network"
   ]
  },
  {
   "cell_type": "code",
   "execution_count": 49,
   "metadata": {
    "scrolled": true
   },
   "outputs": [],
   "source": [
    "n_input = Scaled_trainData.shape[1] # number of features\n",
    "n_output = 6 # number of possible labels\n",
    "n_samples =  Scaled_trainData.shape[0] # number of training samples\n",
    "n_hidden_units = 40\n",
    "Y_test=to_categorical(testLabelE) # one-hot encoded labels\n",
    "Y_train=to_categorical(trainLabelE)"
   ]
  },
  {
   "cell_type": "code",
   "execution_count": 50,
   "metadata": {},
   "outputs": [
    {
     "name": "stdout",
     "output_type": "stream",
     "text": [
      "Keras Classifier Score:0.966406524181366\n"
     ]
    }
   ],
   "source": [
    "def create_model():\n",
    "    model = Sequential()\n",
    "    model.add(Dense(n_hidden_units,input_dim=n_input,activation=\"relu\"))\n",
    "    model.add(Dense(n_hidden_units,input_dim=n_input,activation=\"relu\"))\n",
    "    model.add(Dense(n_output,activation=\"softmax\"))\n",
    "    # Compile Model\n",
    "    model.compile(loss=\"categorical_crossentropy\",optimizer=\"adam\",metrics=['accuracy'])\n",
    "    return model\n",
    "\n",
    "estimator = KerasClassifier(build_fn=create_model, epochs=20, batch_size=10, verbose=False)\n",
    "estimator.fit(Scaled_trainData,Y_train)\n",
    "print(\"Keras Classifier Score:{}\".format(estimator.score(Scaled_testData,Y_test))) # 0.95"
   ]
  },
  {
   "cell_type": "markdown",
   "metadata": {},
   "source": [
    "## Using Ensemble Methods"
   ]
  },
  {
   "cell_type": "code",
   "execution_count": 51,
   "metadata": {},
   "outputs": [
    {
     "name": "stdout",
     "output_type": "stream",
     "text": [
      "ExtraTree Classifier results 0.959\n",
      "RandomForest Classifier results 0.959\n"
     ]
    }
   ],
   "source": [
    "Y_test=to_categorical(testLabelE) # one-hot encoded labels\n",
    "Y_train=to_categorical(trainLabelE)\n",
    "\n",
    "model=ExtraTreesClassifier(n_estimators=500)\n",
    "model.fit(Scaled_trainData,Y_train)\n",
    "print(\"ExtraTree Classifier results %.3f\" %model.score(Scaled_testData,Y_test)) # 0.915\n",
    "\n",
    "model=RandomForestClassifier(n_estimators=500)\n",
    "model.fit(Scaled_trainData,Y_train)\n",
    "print(\"RandomForest Classifier results %.3f\" %model.score(Scaled_testData,Y_test)) # 0.90"
   ]
  },
  {
   "cell_type": "markdown",
   "metadata": {},
   "source": [
    "## Knearest Neighbors"
   ]
  },
  {
   "cell_type": "code",
   "execution_count": 52,
   "metadata": {},
   "outputs": [
    {
     "name": "stdout",
     "output_type": "stream",
     "text": [
      "K-Nearest Neighbors Accuracy: 0.96403\n"
     ]
    }
   ],
   "source": [
    "clf= KNeighborsClassifier(n_neighbors=12)\n",
    "knnModel = clf.fit(Scaled_trainData,trainLabelE)\n",
    "y_te_pred = clf.predict(Scaled_testData)\n",
    "\n",
    "acc = accuracy_score(testLabelE,y_te_pred)\n",
    "print(\"K-Nearest Neighbors Accuracy: %.5f\" %(acc)) #.907"
   ]
  },
  {
   "cell_type": "markdown",
   "metadata": {},
   "source": [
    "## Keras model with different optimizers and dropout layers"
   ]
  },
  {
   "cell_type": "code",
   "execution_count": 53,
   "metadata": {},
   "outputs": [],
   "source": [
    "Y_test=to_categorical(testLabelE) # one-hot encoded labels\n",
    "Y_train=to_categorical(trainLabelE)\n",
    "\n",
    "model = Sequential()\n",
    "model.add(Dense(64, input_dim=Scaled_trainData.shape[1], activation=\"relu\"))\n",
    "model.add(Dropout(0.5)) # To avoid overfitting\n",
    "model.add(Dense(64, activation=\"relu\"))\n",
    "model.add(Dropout(0.5))\n",
    "model.add(Dense(6, activation=\"softmax\"))"
   ]
  },
  {
   "cell_type": "code",
   "execution_count": 54,
   "metadata": {},
   "outputs": [
    {
     "name": "stdout",
     "output_type": "stream",
     "text": [
      "58/58 [==============================] - 1s 2ms/step - loss: 1.6545 - accuracy: 0.3359\n",
      "24/24 [==============================] - 0s 1ms/step - loss: 1.1238 - accuracy: 0.8850\n",
      "[1.123795747756958, 0.8849677443504333]\n"
     ]
    }
   ],
   "source": [
    "model.compile(loss=\"categorical_crossentropy\", metrics=['accuracy'])\n",
    "model.fit(Scaled_trainData,Y_train,batch_size=128)\n",
    "score = model.evaluate(Scaled_testData,Y_test,batch_size=128)\n",
    "print(score)  # 0.956"
   ]
  },
  {
   "cell_type": "code",
   "execution_count": 55,
   "metadata": {},
   "outputs": [
    {
     "name": "stdout",
     "output_type": "stream",
     "text": [
      "58/58 [==============================] - 1s 2ms/step - loss: 1.0990 - accuracy: 0.7299\n",
      "24/24 [==============================] - 0s 1ms/step - loss: 0.6026 - accuracy: 0.9511\n",
      "[0.6026111841201782, 0.9511367678642273]\n"
     ]
    }
   ],
   "source": [
    "model.compile(loss=\"categorical_crossentropy\", optimizer=\"adam\", metrics=['accuracy'])\n",
    "model.fit(Scaled_trainData,Y_train,batch_size=128) #nb_epoch=30,<-- removed this one\n",
    "score = model.evaluate(Scaled_testData,Y_test,batch_size=128)\n",
    "print(score)  # 0.95"
   ]
  },
  {
   "cell_type": "markdown",
   "metadata": {},
   "source": [
    "## Plotting Confusion Matrix"
   ]
  },
  {
   "cell_type": "code",
   "execution_count": 56,
   "metadata": {},
   "outputs": [
    {
     "name": "stdout",
     "output_type": "stream",
     "text": [
      "Accuracy: 0.851374\n",
      "Confusion matrix, without normalization\n",
      "[[537   0   0   0   0   0]\n",
      " [  0 374 116   0   0   1]\n",
      " [  0  82 449   0   0   1]\n",
      " [  0   0   0 454  25  17]\n",
      " [  0   0   0  22 349  49]\n",
      " [  0   0   0  75  50 346]]\n"
     ]
    },
    {
     "data": {
      "image/png": "[encoded data removed]",
      "text/plain": [
       "<Figure size 432x288 with 2 Axes>"
      ]
     },
     "metadata": {
      "needs_background": "light"
     },
     "output_type": "display_data"
    }
   ],
   "source": [
    "def plot_confusion_matrix (cm, classes, normalize=False, title='Confusion Matrix', cmap=pyplot.cm.Blues,\n",
    "                           decsnTreeClf=None):\n",
    "    #This function prints and plots the confusion matrix.\n",
    "    pyplot.imshow(cm,interpolation='nearest',cmap=cmap)\n",
    "    pyplot.title(title)\n",
    "    pyplot.colorbar()\n",
    "    tick_marks=np.arange(len(classes))\n",
    "    pyplot.xticks(tick_marks,classes,rotation=45)\n",
    "    pyplot.yticks(tick_marks,classes)\n",
    "\n",
    "    if normalize:\n",
    "        cm = cm.astype('float') / cm.sum(axis=1)[:,np.newaxis]\n",
    "        print(\"Normalized confusion matrix\")\n",
    "    else:\n",
    "        print(\"Confusion matrix, without normalization\")\n",
    "\n",
    "    print(cm)\n",
    "    \n",
    "    thresh = cm.max()/2.\n",
    "    for i,j in itertools.product(range(cm.shape[0]), range(cm.shape[1])):\n",
    "        pyplot.text(j,i,cm[i,j],horizontalalignment=\"center\", color=\"white\" if cm[i,j]> thresh else \"black\" )\n",
    "\n",
    "    pyplot.tight_layout()\n",
    "    pyplot.ylabel('True Label')\n",
    "    pyplot.xlabel('Predicted Label')\n",
    "    pyplot.show()\n",
    "decsnTreeClf = DecisionTreeClassifier(criterion='entropy')\n",
    "tree= decsnTreeClf.fit(trainData,trainLabelE)\n",
    "testPred = tree.predict(testData)\n",
    "\n",
    "acc= accuracy_score(testLabelE,testPred)\n",
    "cfs=confusion_matrix(testLabelE,testPred)\n",
    "\n",
    "\n",
    "\n",
    "print(\"Accuracy: %f\" %acc)\n",
    "\n",
    "pyplot.figure()\n",
    "class_names = encoder.classes_\n",
    "plot_confusion_matrix(cfs,classes=class_names,title=\"DecisionTree Confusuion Matrix\")"
   ]
  },
  {
   "cell_type": "markdown",
   "metadata": {},
   "source": [
    "## Multiple Classifier Evaluation\n",
    "\n",
    "## Standardize the dataset for simpler handling"
   ]
  },
  {
   "cell_type": "code",
   "execution_count": 57,
   "metadata": {},
   "outputs": [
    {
     "name": "stderr",
     "output_type": "stream",
     "text": [
      "F:\\anaconda3pkd\\lib\\site-packages\\sklearn\\linear_model\\_logistic.py:940: ConvergenceWarning: lbfgs failed to converge (status=1):\n",
      "STOP: TOTAL NO. of ITERATIONS REACHED LIMIT.\n",
      "\n",
      "Increase the number of iterations (max_iter) or scale the data as shown in:\n",
      "    https://scikit-learn.org/stable/modules/preprocessing.html\n",
      "Please also refer to the documentation for alternative solver options:\n",
      "    https://scikit-learn.org/stable/modules/linear_model.html#logistic-regression\n",
      "  extra_warning_msg=_LOGISTIC_SOLVER_CONVERGENCE_MSG)\n"
     ]
    },
    {
     "name": "stdout",
     "output_type": "stream",
     "text": [
      "LR: 0.947404\n"
     ]
    },
    {
     "name": "stderr",
     "output_type": "stream",
     "text": [
      "F:\\anaconda3pkd\\lib\\site-packages\\sklearn\\discriminant_analysis.py:691: UserWarning: Variables are collinear\n",
      "  warnings.warn(\"Variables are collinear\")\n"
     ]
    },
    {
     "name": "stdout",
     "output_type": "stream",
     "text": [
      "QDA: 0.760774\n",
      "KNN: 0.888700\n",
      "D.Tree: 0.854089\n",
      "NB: 0.770275\n",
      "SVM: 0.956566\n",
      "          Scores\n",
      "Model           \n",
      "LR      0.947404\n",
      "QDA     0.760774\n",
      "KNN     0.888700\n",
      "D.Tree  0.854089\n",
      "NB      0.770275\n",
      "SVM     0.956566\n"
     ]
    },
    {
     "data": {
      "image/png": "[encoded data removed]",
      "text/plain": [
       "<Figure size 432x288 with 1 Axes>"
      ]
     },
     "metadata": {
      "needs_background": "light"
     },
     "output_type": "display_data"
    }
   ],
   "source": [
    "pipelines = []\n",
    "pipelines.append(('LR', Pipeline([('Scaler', StandardScaler()),('LR',\n",
    "LogisticRegression(C=100))])))\n",
    "pipelines.append(('QDA', Pipeline([('Scaler', StandardScaler()),('LDA',\n",
    "QuadraticDiscriminantAnalysis())])))\n",
    "pipelines.append(('KNN', Pipeline([('Scaler', StandardScaler()),('KNN',\n",
    "KNeighborsClassifier(7))])))\n",
    "pipelines.append(('D.Tree', Pipeline([('Scaler', StandardScaler()),('CART',\n",
    "DecisionTreeClassifier())])))\n",
    "pipelines.append(('NB', Pipeline([('Scaler', StandardScaler()),('NB',\n",
    "GaussianNB())])))\n",
    "pipelines.append(('SVM', Pipeline([('Scaler', StandardScaler()),('SVM', SVC(C=100,kernel='rbf',decision_function_shape='ovo' ))])))\n",
    "results = []\n",
    "names = []\n",
    "for name, model in pipelines:\n",
    "    model.fit(trainData,trainLabelE)\n",
    "    y_pred = model.predict(testData)\n",
    "    results.append(accuracy_score(y_pred,testLabelE))\n",
    "    names.append(name)\n",
    "    msg = \"%s: %f\" % (name, accuracy_score(y_pred,testLabelE))\n",
    "    print(msg)\n",
    "\n",
    "score_df = pd.DataFrame({'Model':names,'Scores':results}).set_index('Model')\n",
    "print(score_df)\n",
    "ax=score_df.plot.bar()\n",
    "ax.set_xticklabels(score_df.index,rotation=45,fontsize=10)\n",
    "pyplot.grid(True)"
   ]
  },
  {
   "cell_type": "markdown",
   "metadata": {},
   "source": [
    "## Using Tune scaled SVM"
   ]
  },
  {
   "cell_type": "code",
   "execution_count": 58,
   "metadata": {},
   "outputs": [
    {
     "name": "stdout",
     "output_type": "stream",
     "text": [
      "Best: 0.987758 using {'C': 100, 'kernel': 'rbf'}\n",
      "0.984358 (0.002918) with: {'C': 0.1, 'kernel': 'linear'}\n",
      "0.932536 (0.005447) with: {'C': 0.1, 'kernel': 'rbf'}\n",
      "0.984493 (0.002213) with: {'C': 1.0, 'kernel': 'linear'}\n",
      "0.977284 (0.005123) with: {'C': 1.0, 'kernel': 'rbf'}\n",
      "0.979188 (0.004008) with: {'C': 100, 'kernel': 'linear'}\n",
      "0.987758 (0.002620) with: {'C': 100, 'kernel': 'rbf'}\n",
      "0.979188 (0.004008) with: {'C': 1000, 'kernel': 'linear'}\n",
      "0.987758 (0.002620) with: {'C': 1000, 'kernel': 'rbf'}\n"
     ]
    }
   ],
   "source": [
    "scaler = StandardScaler().fit(trainData)\n",
    "rescaledX = scaler.transform(trainData)\n",
    "c_values = [0.1, 1.0, 100, 1000]\n",
    "kernel_values = ['linear', 'rbf']\n",
    "param_grid = dict(C=c_values, kernel=kernel_values)\n",
    "model = SVC()\n",
    "kfold = KFold(n_splits=5, random_state=7, shuffle= True)\n",
    "grid = GridSearchCV(estimator=model, param_grid=param_grid, scoring='accuracy', cv=kfold)\n",
    "grid_result = grid.fit(rescaledX, trainLabelE)\n",
    "print(\"Best: %f using %s\" % (grid_result.best_score_, grid_result.best_params_))\n",
    "means = grid_result.cv_results_['mean_test_score']\n",
    "stds = grid_result.cv_results_['std_test_score']\n",
    "params = grid_result.cv_results_['params']\n",
    "for mean, stdev, param in zip(means, stds, params):\n",
    "    print(\"%f (%f) with: %r\" % (mean, stdev, param))"
   ]
  }
 ],
 "metadata": {
  "kernelspec": {
   "display_name": "Python 3",
   "language": "python",
   "name": "python3"
  },
  "language_info": {
   "codemirror_mode": {
    "name": "ipython",
    "version": 3
   },
   "file_extension": ".py",
   "mimetype": "text/x-python",
   "name": "python",
   "nbconvert_exporter": "python",
   "pygments_lexer": "ipython3",
   "version": "3.7.6"
  }
 },
 "nbformat": 4,
 "nbformat_minor": 2
}
